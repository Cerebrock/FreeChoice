{
 "cells": [
  {
   "cell_type": "code",
   "execution_count": 71,
   "metadata": {
    "collapsed": false
   },
   "outputs": [],
   "source": [
    "path = 'D:\\Matias\\Python\\Psico\\Cuestionarios\\Resultados\\\\'"
   ]
  },
  {
   "cell_type": "code",
   "execution_count": 72,
   "metadata": {
    "collapsed": false
   },
   "outputs": [],
   "source": [
    "with open(path + 'Resultados TEMPS-A MAGO.txt', 'r') as temps:\n",
    "    tempsmago = temps.read()\n",
    "with open(path + 'Resultados TEMPS-A ALI.txt', 'r') as temps:\n",
    "    tempsali = temps.read()"
   ]
  },
  {
   "cell_type": "code",
   "execution_count": 73,
   "metadata": {
    "collapsed": true
   },
   "outputs": [],
   "source": [
    "def contarV(respuestas):\n",
    "    subs = ['D', 'C', 'H', 'I', 'A']\n",
    "    intervalos = [(1, 21), (22, 42), (43, 63), (64, 84), (85, 110)]\n",
    "    return {k:v for k, v in zip(subs, [respuestas[interv[0] - 1: interv[1]].count('1') for interv in intervalos])}"
   ]
  },
  {
   "cell_type": "code",
   "execution_count": 75,
   "metadata": {
    "collapsed": false
   },
   "outputs": [],
   "source": [
    "mg = contarV(tempsmago.split('\\n'))"
   ]
  },
  {
   "cell_type": "code",
   "execution_count": 76,
   "metadata": {
    "collapsed": false
   },
   "outputs": [],
   "source": [
    "al = contarV(tempsali.split('\\n'))"
   ]
  },
  {
   "cell_type": "code",
   "execution_count": 188,
   "metadata": {
    "collapsed": false
   },
   "outputs": [],
   "source": [
    "%matplotlib inline\n",
    "import matplotlib.pyplot as plt\n",
    "import seaborn as sns\n",
    "def graphQ(dic, n):\n",
    "    f, ax = plt.subplots(figsize=(10, 4))\n",
    "    fig = sns.barplot(sorted(dic, key = dic.get), [dic[k] for k in sorted(dic, key = dic.get)])\n",
    "    plt.title(n)\n",
    "    plt.ylabel('Puntajes')\n",
    "    plt.xlabel('Subescalas')\n",
    "    plt.ylim((0, 100))"
   ]
  },
  {
   "cell_type": "code",
   "execution_count": 29,
   "metadata": {
    "collapsed": false
   },
   "outputs": [],
   "source": [
    "NEOP\n",
    "clases = 'N1 N2 N3 N4 N5 N6 N E1 E2 E3 E4 E5 E6 E O1 O2 O3 O4 O5 O6 O A1 A2 A3 A4 A5 A6 A C1 C2 C3 C4 C5 C6 C'\n",
    "vbrutos_ali = '17,5,11,2,14,12,61,17,8,12,22,14,12,85,24,17,13,16,21,18,109,15,11,15,12,23,18,94,16,14,11,15,12,5,73'\n",
    "vbrutos_mago = '17,19,4,9,18,8,75,10,13,14,13,17,11,78,16,12,24,23,12,22,109,7,10,6,15,6,17,61,14,13,12,15,12,9,75'\n",
    "per_ali = [65, 9, 43, 0, 36, 69, 16, 6, 4, 27, 85, 40, 4, 9, 94, 41, 4, 49,\n",
    "           74, 30, 25, 8, 1, 0, 4, 86, 17, 1, 7, 14, 0, 12, 4, 1, 1]\n",
    "per_mago = [81, 93, 6, 15, 76, 47, 50, 0, 30, 34, 19, 51, 8, 3, 48, 21, 89, \n",
    "            97, 7, 65, 50, 0, 2, 0, 22, 11, 33, 0, 2, 9, 0, 18, 3, 1, 0]"
   ]
  },
  {
   "cell_type": "code",
   "execution_count": 170,
   "metadata": {
    "collapsed": false
   },
   "outputs": [
    {
     "name": "stdout",
     "output_type": "stream",
     "text": [
      "('N1', 65)\n",
      "('N2', 9)\n",
      "('N3', 43)\n",
      "('N4', 0)\n",
      "('N5', 36)\n",
      "('N6', 69)\n",
      "('N', 16)\n",
      "('E1', 6)\n",
      "('E2', 4)\n",
      "('E3', 27)\n",
      "('E4', 85)\n",
      "('E5', 40)\n",
      "('E6', 4)\n",
      "('E', 9)\n",
      "('O1', 94)\n",
      "('O2', 41)\n",
      "('O3', 4)\n",
      "('O4', 49)\n",
      "('O5', 74)\n",
      "('O6', 30)\n",
      "('O', 25)\n",
      "('A1', 8)\n",
      "('A2', 1)\n",
      "('A3', 0)\n",
      "('A4', 4)\n",
      "('A5', 86)\n",
      "('A6', 17)\n",
      "('A', 1)\n",
      "('C1', 7)\n",
      "('C2', 14)\n",
      "('C3', 0)\n",
      "('C4', 12)\n",
      "('C5', 4)\n",
      "('C6', 1)\n",
      "('C', 1)\n"
     ]
    }
   ],
   "source": [
    "for i in zip(clases.split(), per_ali):\n",
    "    print(i)"
   ]
  },
  {
   "cell_type": "code",
   "execution_count": 192,
   "metadata": {
    "collapsed": false
   },
   "outputs": [
    {
     "data": {
      "image/png": "[encoded data removed]",
      "text/plain": [
       "<matplotlib.figure.Figure at 0x29d1281d3c8>"
      ]
     },
     "metadata": {},
     "output_type": "display_data"
    }
   ],
   "source": [
    "graphQ({k:v for k, v in zip(clases.split(), per_mago) if k[-1].isdigit()}, 'NEO-PI-R Martín')\n",
    "#graphQ({k:v for k, v in zip(clases.split(), per_mago) if not k[-1].isdigit()}, 'a')"
   ]
  },
  {
   "cell_type": "code",
   "execution_count": null,
   "metadata": {
    "collapsed": true
   },
   "outputs": [],
   "source": []
  }
 ],
 "metadata": {
  "kernelspec": {
   "display_name": "Python 3",
   "language": "python",
   "name": "python3"
  },
  "language_info": {
   "codemirror_mode": {
    "name": "ipython",
    "version": 3
   },
   "file_extension": ".py",
   "mimetype": "text/x-python",
   "name": "python",
   "nbconvert_exporter": "python",
   "pygments_lexer": "ipython3",
   "version": "3.6.6"
  }
 },
 "nbformat": 4,
 "nbformat_minor": 2
}
